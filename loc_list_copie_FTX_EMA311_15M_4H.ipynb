{
  "nbformat": 4,
  "nbformat_minor": 0,
  "metadata": {
    "colab": {
      "name": "loc-list_copie_FTX_EMA311_15M_4H.ipynb",
      "provenance": [],
      "collapsed_sections": [],
      "authorship_tag": "ABX9TyP+BmWm9uaSXQx+81s1HdFq",
      "include_colab_link": true
    },
    "kernelspec": {
      "name": "python3",
      "display_name": "Python 3"
    },
    "language_info": {
      "name": "python"
    }
  },
  "cells": [
    {
      "cell_type": "markdown",
      "metadata": {
        "id": "view-in-github",
        "colab_type": "text"
      },
      "source": [
        "<a href=\"https://colab.research.google.com/github/cochedayan/TrueStrategy/blob/main/loc_list_copie_FTX_EMA311_15M_4H.ipynb\" target=\"_parent\"><img src=\"https://colab.research.google.com/assets/colab-badge.svg\" alt=\"Open In Colab\"/></a>"
      ]
    },
    {
      "cell_type": "markdown",
      "source": [
        "Programme adapte au dates FTX. A utiliser apres tests d'une crypto sur une longue periode avec BNC"
      ],
      "metadata": {
        "id": "eN2iSxKKNpIw"
      }
    },
    {
      "cell_type": "markdown",
      "source": [
        "Relever le cours toutes les 4 heures et calculer les EMA. Acheter quand EMA3>EMA11 au prix du cours. Vendre quand EMA11>EMA3 au prix de la cloture15M car il y a au moins 10 bougies au dessus de ce prix apres placement de l'ordre de vente . Il faut donc relever le cours toutes les 15 minutes. Parametrer le jour de reference (decale_jours) a minima 44 heures pour construire le tableaux de fusion. Demarrer quand EMA11 > EMA3 sur 8H et dans un creux qui remonte."
      ],
      "metadata": {
        "id": "LSTtpUn4Oqlo"
      }
    },
    {
      "cell_type": "markdown",
      "metadata": {
        "id": "9ckZUXWW6C-y"
      },
      "source": [
        "<h1>Installation des packages</h1>"
      ]
    },
    {
      "cell_type": "markdown",
      "metadata": {
        "id": "v6H7kqvD5oVI"
      },
      "source": [
        "Bibliothèque Python3 non officielle pour interagir avec l'API [FTX]"
      ]
    },
    {
      "cell_type": "code",
      "execution_count": null,
      "metadata": {
        "id": "PEH4MOMX6sxf"
      },
      "outputs": [],
      "source": [
        "pip install ftx"
      ]
    },
    {
      "cell_type": "markdown",
      "metadata": {
        "id": "c2eKnt1WcxSr"
      },
      "source": [
        "Bibliothèque pandas pour l'analyse techniques des données financières"
      ]
    },
    {
      "cell_type": "code",
      "execution_count": null,
      "metadata": {
        "id": "Xy0by4to7PNv"
      },
      "outputs": [],
      "source": [
        "pip install ta"
      ]
    },
    {
      "cell_type": "markdown",
      "metadata": {
        "id": "ySbZgl0y6b42"
      },
      "source": [
        "<h1>Charger les packages</h1>\n"
      ]
    },
    {
      "cell_type": "code",
      "execution_count": null,
      "metadata": {
        "id": "3eNta0nF7ioq"
      },
      "outputs": [],
      "source": [
        "import ftx\n",
        "import pandas as pd\n",
        "from pandas.errors import UnsupportedFunctionCall\n",
        "#import json\n",
        "import ta\n",
        "import time as ti #renome sinon pb avec le time de datetime\n",
        "from datetime import datetime, date, time, timedelta\n",
        "import pytz\n",
        "from math import *\n",
        "import numpy as np\n",
        "\n",
        "import matplotlib.pyplot as plt"
      ]
    },
    {
      "cell_type": "markdown",
      "metadata": {
        "id": "S86OAAr0kcCg"
      },
      "source": [
        "<h1>Parametrer (paire, variables ...)</h1>"
      ]
    },
    {
      "cell_type": "code",
      "execution_count": null,
      "metadata": {
        "id": "MOuWZBv7k1GQ"
      },
      "outputs": [],
      "source": [
        "################## Parametres pour le test\n",
        "usdt = 100\n",
        "coin = 0\n",
        "fee = 0.000665\n",
        "achat = 0\n",
        "\n",
        "################## Parametres crypto\n",
        "pairSymbol = 'TRX/USD'\n",
        "cryptoSymbol = 'TRX'\n",
        "fiatSymbol = 'USD'\n",
        "tronque_usdt = 7\n",
        "tronque_coin = 0\n",
        "Minimum_order_size = 1\n",
        "Minimum_price_increment = 0.0000025\n",
        "\n",
        "# Valeurs des variables pour ces cryptos\n",
        "#symbol = 'XX '                      #SOL/USD   #LINK/USD   #ETH/USD  #XRP/USD   #ATOM/USD  #DENT/USD   #TRX  \n",
        "#tronque_usd = 4                     #4         #4          #1        #          #4         #6          #7\n",
        "#tronque_coin = 1                    #2         #1          #3        #          #1         #0          #0\n",
        "#Minimum_order_size = 0.1            #0.01      #0.1        #0.001    #1         #0.1       #100        #1\n",
        "#Minimum_price_increment = 0.0000025    #0.0025    #0.0005     #0.1      #0.000025  #0.0025    #0.000001   #0.0000025\n",
        "\n",
        "################## Initialisation\n",
        "prix_achat = 999999\n",
        "mise = 0\n",
        "prix_vente = 0\n",
        "\n",
        "############# Fonctions\n",
        "def truncate(n, decimals=0):\n",
        "    r = floor(float(n)*10**decimals)/10**decimals\n",
        "    return float(r)\n",
        "\n",
        "################## Connection\n",
        "from ftx import FtxClient\n",
        "client = FtxClient()\n",
        "\n",
        "############ Reglage du decalage jour\n",
        "#valeurs possibles de decale_jours : [2,..,31]\n",
        "decale_jours = 26\n",
        "#valeurs possibles de decale_heure : [00,4,8,12,16,20]\n",
        "decale_heure = 0\n",
        "#date du jour en UTC a minuit\n",
        "tz = pytz.timezone('UTC')\n",
        "date_jour = date.today()\n",
        "date_jour_minuit_strp = datetime.combine(date_jour, time())\n",
        "print('date_jour_minuit_strp :',date_jour_minuit_strp)\n",
        "#jour decale en UTC a minuit\n",
        "date_decale_ts = datetime.timestamp(date_jour_minuit_strp + timedelta(days = -decale_jours, hours = +decale_heure))\n",
        "print('date_decale_ts:', str(date_decale_ts))\n",
        "date_decale_julien = datetime.fromtimestamp(date_decale_ts)\n",
        "print('date_decale_julien:',date_decale_julien)\n"
      ]
    },
    {
      "cell_type": "markdown",
      "source": [
        "<h1>Recuperer les donnees. Creer un tableau 15 M et un 4H avec les indicateurs EMA3/11</h1>"
      ],
      "metadata": {
        "id": "i-Ti2hRbDg60"
      }
    },
    {
      "cell_type": "code",
      "source": [
        "################## Relever les donnees pour le dataframe de 15M\n",
        "# resolution = largeur de la bougie en secondes. Donc pour un timelaps de 15 min, resolution = 900 (15 X 60sec) \n",
        "# resolution proposee : 15, 60, 300, 900, 3600, 14400, 86400 puis multiples de 86400\n",
        "# limit = historique des donnees. Maxi autorise = 3450. \n",
        "# Au minimum limit = 176 (16 x 11). 16 car il y a 16 1/4h dans 4h et 11 car il faut 11 periodes de 4h pour faire EMA11\n",
        "# demmarer a l-heure actuelle moins les 16 dernieres periodes et finir a l-heure actuelle\n",
        "# class datetime.datetime(year, month, day, hour=0, minute=0, second=0, microsecond=0, tzinfo=None, *, fold=0)\n",
        "df15M = None\n",
        "\n",
        "data15M = client.get_historical_data(\n",
        "    market_name=pairSymbol,\n",
        "    resolution=900,\n",
        "    limit=3450,\n",
        "    start_time=date_decale_ts)\n",
        "\n",
        "df15M = pd.DataFrame(data15M, columns = ['startTime','time','open','high','low','close','volume'])\n",
        "\n",
        "df15M = df15M.set_index(df15M['time'])\n",
        "df15M.index = pd.to_datetime(df15M.index, unit='ms')\n",
        "\n",
        "df15M['heure15M'] = df15M.index\n",
        "df15M['close15M'] = pd.to_numeric(df15M['close'])\n",
        "\n",
        "del df15M['startTime']\n",
        "del df15M['time']\n",
        "del df15M['open']\n",
        "del df15M['high']\n",
        "del df15M['low']\n",
        "del df15M['close']\n",
        "del df15M['volume']"
      ],
      "metadata": {
        "id": "G0PbCvNkA-JX"
      },
      "execution_count": null,
      "outputs": []
    },
    {
      "cell_type": "code",
      "source": [
        "df15M"
      ],
      "metadata": {
        "id": "RMSdcdISnoOR"
      },
      "execution_count": null,
      "outputs": []
    },
    {
      "cell_type": "code",
      "execution_count": null,
      "metadata": {
        "id": "-W9Y6zCkLc71"
      },
      "outputs": [],
      "source": [
        "################## Relever les donnees pour le dataframe de 4H et ajouter les indicateurs\n",
        "# resolution = largeur de la bougie en secondes. Pour un timelaps de 4 heure, resolution = 14400 (4h x 60min X 60sec)\n",
        "# resolution proposee : 15, 60, 300, 900, 3600, 14400, 86400 puis multiples de 86400\n",
        "# limit = historique des donnees (EMA de 11 et EMA de 3 donc minimum 11)\n",
        "# demmarer a l-heure actuelle moins les 11 dernieres periodes et finir a l-heure actuelle\n",
        "# class datetime.datetime(year, month, day, hour=0, minute=0, second=0, microsecond=0, tzinfo=None, *, fold=0)\n",
        "df4H = None\n",
        "\n",
        "data4H = client.get_historical_data(\n",
        "    market_name=pairSymbol,\n",
        "    resolution=14400,\n",
        "    limit=3450,\n",
        "    start_time=date_decale_ts) \n",
        "\n",
        "df4H = pd.DataFrame(data4H, columns = ['startTime','time','open','high','low','close','volume'])\n",
        "\n",
        "df4H = df4H.set_index(df4H['time'])\n",
        "df4H.index = pd.to_datetime(df4H.index, unit='ms')\n",
        "\n",
        "df4H['heure4H'] = df4H.index\n",
        "df4H['close4H'] = pd.to_numeric(df4H['close'])\n",
        "\n",
        "del df4H['startTime']\n",
        "del df4H['time']\n",
        "del df4H['open']\n",
        "del df4H['high']\n",
        "del df4H['low']\n",
        "del df4H['close']\n",
        "del df4H['volume']\n",
        "\n",
        "df4H['EMA3']=ta.trend.ema_indicator(df4H['close4H'], 3)\n",
        "df4H['EMA11']=ta.trend.ema_indicator(df4H['close4H'], 11)\n",
        " "
      ]
    },
    {
      "cell_type": "code",
      "source": [
        "df4H"
      ],
      "metadata": {
        "id": "Tqa2MYb-poGy"
      },
      "execution_count": null,
      "outputs": []
    },
    {
      "cell_type": "markdown",
      "source": [
        "<h1>Creer un tableau de test qui reprend les donnees 15M et 4H et les indicateurs</h1>"
      ],
      "metadata": {
        "id": "wH8J-OdxEEPx"
      }
    },
    {
      "cell_type": "code",
      "source": [
        "# creer un dataframe de fusion des 2 dataframe precedents.Chaque ligne correspond aux releves espaces de 4 heures.\n",
        "# les lignes contiennent les ema et le prix de cloture 15M. dfTest est uniquement utile pour construire l'historique.\n",
        "dfTest = None\n",
        "dfTest = pd.DataFrame(columns = ['h_15M' , 'c_15M', 'h_4H' , 'c_4H', 'ema3' , 'ema11'])\n",
        "\n",
        "m=0 # premiere ligne dataframe df15M\n",
        "n=len(df15M) #derniere ligne dataframe df15M\n",
        "\n",
        "# lire la premiere ligne de df4H avec methode indexation et la premiere ligne de df15M pour constituer la premiere ligne d-une liste\n",
        "# utiliser loc pour ajouter la ligne dans dfTest. \n",
        "# reiterer pour la seconde ligne de df4H avec la 16eme ligne de df15M et ce jusqu-a la fin\n",
        "\n",
        "lastindex1 = df4H.first_valid_index()\n",
        "\n",
        "for index1, row in df4H.iterrows():\n",
        "  #print(index1,\"| df15M:\",df15M['heure15M'][m], df15M['close15M'][m],\"| df4H:\", df4H['heure4H'][index1],df4H['close4H'][index1],df4H['EMA3'][index1],df4H['EMA11'][index1])\n",
        "  HEURE15M = df15M['heure15M'][m]\n",
        "  CLOSE15M = df15M['close15M'][m]\n",
        "  HEURE4H = df4H['heure4H'][index1]\n",
        "  CLOSE4H = df4H['close4H'][index1]\n",
        "  EMA3 = df4H['EMA3'][index1]\n",
        "  EMA11 = df4H['EMA11'][index1]\n",
        "\n",
        "  m = m + 16 # 16 car 16 quart d-heure dans 4 heures\n",
        "  if m > n :\n",
        "    m = n\n",
        "\n",
        "  list = [HEURE15M, CLOSE15M, HEURE4H, CLOSE4H,EMA3,EMA11]\n",
        "  dfTest.loc[len(dfTest)] = list\n",
        "\n",
        "lastindex1 = index1\n",
        "\n",
        "# Reindexer le dataframe de fusion\n",
        "\n",
        "dfTest = dfTest.set_index(dfTest['h_15M'])\n",
        "dfTest.index = pd.to_datetime(dfTest.index, unit='ms')\n",
        "del dfTest['h_15M']\n",
        "dfTest\n"
      ],
      "metadata": {
        "id": "qK3DNfzyCUQm"
      },
      "execution_count": null,
      "outputs": []
    },
    {
      "cell_type": "markdown",
      "source": [
        "<h1>Executer le test</h1>"
      ],
      "metadata": {
        "id": "KSJInD-dKE-o"
      }
    },
    {
      "cell_type": "code",
      "source": [
        "################## ATTENTION avec FTX car vendre si pas de crytos, FTX en achete pour vous. Toujours avoir coin > 0 et surtout achat == 1 pour vendre.\n",
        "\n",
        "############# Parametres pour le graphique\n",
        "Montant_initial = usdt\n",
        "wallet = usdt\n",
        "initalWallet = wallet\n",
        "lastAth = 1\n",
        "lastIndex = dfTest.first_valid_index()\n",
        "dt = None\n",
        "dt = pd.DataFrame(columns = ['date','position', 'price', 'frais' ,'fiat', 'coins', 'wallet', 'drawBack'])\n",
        "\n",
        "############ Ordres\n",
        "print(\"debut historique : \",date_decale_julien,\"(ce jour a minuit -\",decale_jours,\"jours)\")\n",
        "print()\n",
        "\n",
        "## Vente quand EMA3 < EMA11\n",
        "for index, row in dfTest.iterrows():\n",
        "  if row['ema11'] > row['ema3'] and achat == 1 and coin > Minimum_order_size :\n",
        "    achat = 0\n",
        "    prix_vente = row['c_15M']\n",
        "    usdt = coin * prix_vente\n",
        "    frais = usdt * fee\n",
        "    usdt = truncate(float(usdt - frais), tronque_usdt)\n",
        "    g = usdt - mise\n",
        "    gpourcent =  (round(((prix_vente - prix_achat)/prix_achat),4)) * 100\n",
        "    wallet = usdt\n",
        "    if wallet > lastAth:\n",
        "      lastAth = wallet\n",
        "    print(index,\"Vente sur EMA        PRIX:\",prix_vente,\"     USDT:\",usdt,\"     gains_pertes:\",g,\"     %:\",gpourcent)\n",
        "    myrow = {'date': index,'position': \"Sell\",'price': row['c_15M'],'frais': frais,'fiat': usdt,'coins': coin,'wallet': wallet,'drawBack':(wallet-lastAth)/lastAth}\n",
        "    dt = dt.append(myrow,ignore_index=True)\n",
        "\n",
        "\n",
        "## Achat quand EMA3 > EMA11\n",
        "  if row['ema3'] > row['ema11'] and achat == 0 and usdt > Minimum_price_increment :\n",
        "    print()\n",
        "    achat = 1\n",
        "    prix_achat = row['c_15M']\n",
        "    coin = usdt / prix_achat\n",
        "    frais = coin * fee\n",
        "    coin = truncate(float(coin - frais),tronque_coin)\n",
        "    usdt = 0\n",
        "    mise = truncate(float(coin * prix_achat),tronque_usdt)\n",
        "    wallet = coin * prix_achat\n",
        "    if wallet > lastAth:\n",
        "      lastAth = wallet \n",
        "    print(index,\"Achat sur EMA        PRIX:\",prix_achat,\"     USDT:\",usdt,\"             mise:\",mise,\"   coin:\",coin)\n",
        "    myrow = {'date': index,'position': \"Buy\",'price': row['c_15M'],'frais': frais * row['c_15M'],'fiat': usdt,'coins': coin,'wallet': wallet,'drawBack':(wallet-lastAth)/lastAth}\n",
        "    dt = dt.append(myrow,ignore_index=True)\n",
        "\n",
        "lastIndex = index\n",
        "\n",
        "print()\n",
        " \n",
        "############# Le graphique\n",
        "print(\"\")\n",
        "print(\"Periode : [\" + str(dfTest.index[0]) + \"] -> [\" +str(dfTest.index[len(dfTest)-1]) + \"]\")\n",
        "dt = dt.set_index(dt['date'])\n",
        "dt.index = pd.to_datetime(dt.index)\n",
        "dt['resultat'] = dt['wallet'].diff()\n",
        "dt['resultat%'] = dt['wallet'].pct_change()*100\n",
        "dt.loc[dt['position']=='Buy','resultat'] = None\n",
        "dt.loc[dt['position']=='Buy','resultat%'] = None\n",
        "\n",
        "dt['tradeIs'] = ''\n",
        "dt.loc[dt['resultat']>0,'tradeIs'] = 'Good'\n",
        "dt.loc[dt['resultat']<=0,'tradeIs'] = 'Bad'\n",
        "\n",
        "iniClose = dfTest.iloc[0]['c_15M']\n",
        "lastClose = dfTest.iloc[len(dfTest)-1]['c_15M']\n",
        "holdPorcentage = ((lastClose - iniClose)/iniClose) * 100\n",
        "algoPorcentage = ((wallet - initalWallet)/initalWallet) * 100\n",
        "vsHoldPorcentage = ((algoPorcentage - holdPorcentage)/holdPorcentage) * 100\n",
        "\n",
        "print(\"coin:\", coin)\n",
        "print(\"usdt:\", usdt)\n",
        "print(\"Montant initial :\",Montant_initial,\"$\")\n",
        "print(\"Montant final   :\",round(wallet,2),\"$\")\n",
        "print(\"Gain :\",round(wallet,2)-Montant_initial,\"€\")\n",
        "print(\"Gain :\",round(algoPorcentage,2),\"%\")\n",
        "print(\"Buy and Hold Performence :\",round(holdPorcentage,2),\"%\")\n",
        "print(\"Performance vs Buy and Hold :\",round(vsHoldPorcentage,2),\"%\")\n",
        "print(\"Number of negative trades : \",dt.groupby('tradeIs')['date'].nunique()['Bad'])\n",
        "print(\"Number of positive trades : \",dt.groupby('tradeIs')['date'].nunique()['Good'])\n",
        "print(\"Average Positive Trades : \",round(dt.loc[dt['tradeIs'] == 'Good', 'resultat%'].sum()/dt.loc[dt['tradeIs'] == 'Good', 'resultat%'].count(),2),\"%\")\n",
        "print(\"Average Negative Trades : \",round(dt.loc[dt['tradeIs'] == 'Bad', 'resultat%'].sum()/dt.loc[dt['tradeIs'] == 'Bad', 'resultat%'].count(),2),\"%\")\n",
        "idbest = dt.loc[dt['tradeIs'] == 'Good', 'resultat%'].idxmax()\n",
        "idworst = dt.loc[dt['tradeIs'] == 'Bad', 'resultat%'].idxmin()\n",
        "print(\"Best trade +\"+str(round(dt.loc[dt['tradeIs'] == 'Good', 'resultat%'].max(),2)),\"%, the \",dt['date'][idbest])\n",
        "print(\"Worst trade\",round(dt.loc[dt['tradeIs'] == 'Bad', 'resultat%'].min(),2),\"%, the \",dt['date'][idworst])\n",
        "print(\"Worst drawBack\", str(100*round(dt['drawBack'].min(),2)),\"%\")\n",
        "print(\"Total fee : \",round(dt['frais'].sum(),2),\"$\")\n",
        "\n",
        "dt[['wallet','price']].plot(subplots=True, figsize=(12,10))\n",
        "print('PLOT')\n"
      ],
      "metadata": {
        "id": "Hk3ljbXzBMmf"
      },
      "execution_count": null,
      "outputs": []
    },
    {
      "cell_type": "markdown",
      "metadata": {
        "id": "45Mg_eyhRzoL"
      },
      "source": [
        "<h1>FIN</h1>"
      ]
    }
  ]
}